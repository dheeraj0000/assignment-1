{
  "nbformat": 4,
  "nbformat_minor": 0,
  "metadata": {
    "colab": {
      "provenance": []
    },
    "kernelspec": {
      "name": "python3",
      "display_name": "Python 3"
    },
    "language_info": {
      "name": "python"
    }
  },
  "cells": [
    {
      "cell_type": "code",
      "execution_count": null,
      "metadata": {
        "id": "WdInwxTW443f"
      },
      "outputs": [],
      "source": [
        "import pandas as pd \n",
        "d=pd.read_csv('Salary_Data.csv')\n",
        "print(d)\n",
        "import numpy as np\n",
        "y = d1['YearsExperience']\n",
        "x=d1['Salary']\n",
        "b1=10000000000000000\n",
        "b0=100000000\n",
        "summation = 0  \n",
        "n = len(y)\n",
        "for i in range (0,n): \n",
        "  y_bar =(b1*y[i])+b0\n",
        "  dif =(x[i])-(y_bar) \n",
        "  squared_difference = dif*dif \n",
        "  summation = summation + squared_difference  \n",
        "MSE = summation/n \n",
        "print(\"The Mean Square Error is: \",MSE)"
      ]
    }
  ]
}